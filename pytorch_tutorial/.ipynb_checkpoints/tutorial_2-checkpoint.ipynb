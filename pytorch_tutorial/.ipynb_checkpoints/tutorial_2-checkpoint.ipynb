{
 "cells": [
  {
   "cell_type": "markdown",
   "id": "53a7e597-e849-4125-b9ba-2e758fff2969",
   "metadata": {},
   "source": [
    "## neural networks"
   ]
  },
  {
   "cell_type": "code",
   "execution_count": 1,
   "id": "0d1af340-8540-4d41-aa11-d08e43052be9",
   "metadata": {},
   "outputs": [],
   "source": [
    "import torch \n",
    "from torch import nn \n",
    "import matplotlib.pyplot as plt"
   ]
  },
  {
   "cell_type": "markdown",
   "id": "1c11e9f3-db56-4a9a-ab1b-64c3ed7fae77",
   "metadata": {},
   "source": [
    "## linear equation"
   ]
  },
  {
   "cell_type": "code",
   "execution_count": 6,
   "id": "0067398f-35fd-4bad-bbe0-967d36c5cc64",
   "metadata": {},
   "outputs": [],
   "source": [
    "weight = 0.7\n",
    "bias = 0.3\n",
    "\n",
    "start = 0\n",
    "end = 1\n",
    "step = 0.02\n",
    "\n",
    "X = torch.arange(start,end,step).unsqueeze(dim=1)\n",
    "y = weight*X + bias"
   ]
  },
  {
   "cell_type": "code",
   "execution_count": 7,
   "id": "d35c1378-e55a-4ece-bcb4-adde8ec66615",
   "metadata": {
    "scrolled": true
   },
   "outputs": [
    {
     "data": {
      "text/plain": [
       "(tensor([[0.0000],\n",
       "         [0.0200],\n",
       "         [0.0400],\n",
       "         [0.0600],\n",
       "         [0.0800],\n",
       "         [0.1000],\n",
       "         [0.1200],\n",
       "         [0.1400],\n",
       "         [0.1600],\n",
       "         [0.1800],\n",
       "         [0.2000],\n",
       "         [0.2200],\n",
       "         [0.2400],\n",
       "         [0.2600],\n",
       "         [0.2800],\n",
       "         [0.3000],\n",
       "         [0.3200],\n",
       "         [0.3400],\n",
       "         [0.3600],\n",
       "         [0.3800],\n",
       "         [0.4000],\n",
       "         [0.4200],\n",
       "         [0.4400],\n",
       "         [0.4600],\n",
       "         [0.4800],\n",
       "         [0.5000],\n",
       "         [0.5200],\n",
       "         [0.5400],\n",
       "         [0.5600],\n",
       "         [0.5800],\n",
       "         [0.6000],\n",
       "         [0.6200],\n",
       "         [0.6400],\n",
       "         [0.6600],\n",
       "         [0.6800],\n",
       "         [0.7000],\n",
       "         [0.7200],\n",
       "         [0.7400],\n",
       "         [0.7600],\n",
       "         [0.7800],\n",
       "         [0.8000],\n",
       "         [0.8200],\n",
       "         [0.8400],\n",
       "         [0.8600],\n",
       "         [0.8800],\n",
       "         [0.9000],\n",
       "         [0.9200],\n",
       "         [0.9400],\n",
       "         [0.9600],\n",
       "         [0.9800]]),\n",
       " tensor([[0.3000],\n",
       "         [0.3140],\n",
       "         [0.3280],\n",
       "         [0.3420],\n",
       "         [0.3560],\n",
       "         [0.3700],\n",
       "         [0.3840],\n",
       "         [0.3980],\n",
       "         [0.4120],\n",
       "         [0.4260],\n",
       "         [0.4400],\n",
       "         [0.4540],\n",
       "         [0.4680],\n",
       "         [0.4820],\n",
       "         [0.4960],\n",
       "         [0.5100],\n",
       "         [0.5240],\n",
       "         [0.5380],\n",
       "         [0.5520],\n",
       "         [0.5660],\n",
       "         [0.5800],\n",
       "         [0.5940],\n",
       "         [0.6080],\n",
       "         [0.6220],\n",
       "         [0.6360],\n",
       "         [0.6500],\n",
       "         [0.6640],\n",
       "         [0.6780],\n",
       "         [0.6920],\n",
       "         [0.7060],\n",
       "         [0.7200],\n",
       "         [0.7340],\n",
       "         [0.7480],\n",
       "         [0.7620],\n",
       "         [0.7760],\n",
       "         [0.7900],\n",
       "         [0.8040],\n",
       "         [0.8180],\n",
       "         [0.8320],\n",
       "         [0.8460],\n",
       "         [0.8600],\n",
       "         [0.8740],\n",
       "         [0.8880],\n",
       "         [0.9020],\n",
       "         [0.9160],\n",
       "         [0.9300],\n",
       "         [0.9440],\n",
       "         [0.9580],\n",
       "         [0.9720],\n",
       "         [0.9860]]))"
      ]
     },
     "execution_count": 7,
     "metadata": {},
     "output_type": "execute_result"
    }
   ],
   "source": [
    "X,y"
   ]
  },
  {
   "cell_type": "markdown",
   "id": "fb0f45e0-84f9-4963-9bb0-bd5c11fe7f98",
   "metadata": {},
   "source": [
    "## splitting dataset into train and test set"
   ]
  },
  {
   "cell_type": "code",
   "execution_count": 8,
   "id": "5be13a62-829f-4a36-a011-1600ba283720",
   "metadata": {},
   "outputs": [],
   "source": [
    "perc = 0.8\n",
    "train_data = int(perc * len(X))\n",
    "X_train, y_train = X[:train_data], y[:train_data]\n",
    "X_test, y_test = X[train_data:], y[train_data:]"
   ]
  },
  {
   "cell_type": "code",
   "execution_count": 10,
   "id": "4416023a-7e1b-43a4-b77c-e3723fff1f48",
   "metadata": {},
   "outputs": [
    {
     "data": {
      "text/plain": [
       "(40, 10, 50)"
      ]
     },
     "execution_count": 10,
     "metadata": {},
     "output_type": "execute_result"
    }
   ],
   "source": [
    "len(X_train), len(X_test), len(X)"
   ]
  },
  {
   "cell_type": "markdown",
   "id": "a83708b1-55ee-4582-9a3d-2acb0fc67cc7",
   "metadata": {},
   "source": [
    "## plotting function"
   ]
  },
  {
   "cell_type": "code",
   "execution_count": 35,
   "id": "9024cb6a-cb20-4bd9-8bba-039549ffd232",
   "metadata": {},
   "outputs": [],
   "source": [
    "def plot_data(train_data=X_train, train_labels=y_train, test_data=X_test, test_labels=y_test, predictions=None):\n",
    "    plt.figure(figsize=(10,7))\n",
    "\n",
    "    plt.scatter(train_data, train_labels, c='r', s=4, label='Training set')\n",
    "    plt.scatter(test_data, test_labels, c='g', s=4, label='Test set')\n",
    "    if predictions != None:\n",
    "        plt.scatter(test_data, predictions, c='b', s=4, label='Prediction set')\n",
    "\n",
    "    plt.legend(prop={\"size\":14})"
   ]
  },
  {
   "cell_type": "code",
   "execution_count": 13,
   "id": "55bfb40b-fe23-4efa-b6ea-5dd917461916",
   "metadata": {},
   "outputs": [
    {
     "data": {
      "image/png": "[encoded data removed]",
      "text/plain": [
       "<Figure size 1000x700 with 1 Axes>"
      ]
     },
     "metadata": {},
     "output_type": "display_data"
    }
   ],
   "source": [
    "plot_data()"
   ]
  },
  {
   "cell_type": "markdown",
   "id": "4aa14c51-2d16-4506-aadf-b2005b864e7a",
   "metadata": {},
   "source": [
    "## First pytorch model\n",
    "\n",
    "## linear regression model"
   ]
  },
  {
   "cell_type": "code",
   "execution_count": 19,
   "id": "d2f439a0-22d4-4ceb-b0bb-065c5e09232a",
   "metadata": {},
   "outputs": [],
   "source": [
    "class LinearRegressionModel(nn.Module):\n",
    "    def __init__(self):\n",
    "        super().__init__()\n",
    "\n",
    "        self.weights = nn.Parameter(torch.randn(1,requires_grad=True,dtype=torch.float))\n",
    "        self.bias = nn.Parameter(torch.randn(1,requires_grad=True,dtype=torch.float))\n",
    "\n",
    "    def forward(self,x : torch.Tensor) -> torch.Tensor:\n",
    "        return self.weights*x + self.bias\n",
    "        "
   ]
  },
  {
   "cell_type": "code",
   "execution_count": 72,
   "id": "156507ba-da40-4312-9b0c-91ec70bd6796",
   "metadata": {},
   "outputs": [
    {
     "data": {
      "text/plain": [
       "[Parameter containing:\n",
       " tensor([0.3367], requires_grad=True),\n",
       " Parameter containing:\n",
       " tensor([0.1288], requires_grad=True)]"
      ]
     },
     "execution_count": 72,
     "metadata": {},
     "output_type": "execute_result"
    }
   ],
   "source": [
    "torch.manual_seed(42)\n",
    "model_0 = LinearRegressionModel()\n",
    "\n",
    "list(model_0.parameters())"
   ]
  },
  {
   "cell_type": "code",
   "execution_count": 73,
   "id": "a3c409e7-0c47-4460-9f76-c84a37ccdfc5",
   "metadata": {},
   "outputs": [
    {
     "data": {
      "text/plain": [
       "OrderedDict([('weights', tensor([0.3367])), ('bias', tensor([0.1288]))])"
      ]
     },
     "execution_count": 73,
     "metadata": {},
     "output_type": "execute_result"
    }
   ],
   "source": [
    "model_0.state_dict()"
   ]
  },
  {
   "cell_type": "code",
   "execution_count": 74,
   "id": "44088789-ec8a-4db8-b98b-d330fc5a5de4",
   "metadata": {},
   "outputs": [
    {
     "data": {
      "text/plain": [
       "tensor([[0.3982],\n",
       "        [0.4049],\n",
       "        [0.4116],\n",
       "        [0.4184],\n",
       "        [0.4251],\n",
       "        [0.4318],\n",
       "        [0.4386],\n",
       "        [0.4453],\n",
       "        [0.4520],\n",
       "        [0.4588]])"
      ]
     },
     "execution_count": 74,
     "metadata": {},
     "output_type": "execute_result"
    }
   ],
   "source": [
    "## making predictions without training model\n",
    "\n",
    "with torch.inference_mode(): ## while predicting it disables the backtracking\n",
    "    y_pred = model_0(X_test) ## orr model_0.forward(X_text) , both does the same thing\n",
    "y_pred"
   ]
  },
  {
   "cell_type": "code",
   "execution_count": 36,
   "id": "bd1ef7a8-05db-4d93-82ae-2cbcc9b66a50",
   "metadata": {},
   "outputs": [
    {
     "data": {
      "image/png": "[encoded data removed]",
      "text/plain": [
       "<Figure size 1000x700 with 1 Axes>"
      ]
     },
     "metadata": {},
     "output_type": "display_data"
    }
   ],
   "source": [
    "plot_data(predictions=y_pred)"
   ]
  },
  {
   "cell_type": "code",
   "execution_count": 80,
   "id": "61afbaf7-94b3-4149-8b3f-4307c3ad8e29",
   "metadata": {},
   "outputs": [],
   "source": [
    "## setting loss function\n",
    "loss_fn = nn.L1Loss() ## similar to MLE = torch.mean(torch.abs(y_pred-y_test))\n",
    "\n",
    "## setting up optimizer\n",
    "optimizer = torch.optim.SGD(params=model_0.parameters(), lr=0.01)"
   ]
  },
  {
   "cell_type": "markdown",
   "id": "6c0e8f63-1edf-485f-bb4a-2eeb184471ce",
   "metadata": {},
   "source": [
    "## Building training loop\n",
    "\n",
    "0) loop through the data\n",
    "1) forward pass, to compute the y_pred\n",
    "2) optimizer for zero grad\n",
    "3) loss function calculation and backward pass\n",
    "4) optimization"
   ]
  },
  {
   "cell_type": "code",
   "execution_count": 81,
   "id": "24e89144-22b6-49be-8b51-450eb3bca35d",
   "metadata": {
    "scrolled": true
   },
   "outputs": [
    {
     "name": "stdout",
     "output_type": "stream",
     "text": [
      "OrderedDict([('weights', tensor([0.5784])), ('bias', tensor([0.3513]))])\n",
      "Loss: 0.02479521557688713\n"
     ]
    }
   ],
   "source": [
    "epochs = 100\n",
    "\n",
    "# trackring values\n",
    "epoch_count = []\n",
    "train_loss = []\n",
    "test_loss = []\n",
    "\n",
    "# set the loop\n",
    "for epoch in range(epochs):\n",
    "    # set the model training\n",
    "    model_0.train()\n",
    "\n",
    "    # set the forward pass\n",
    "    y_pred = model_0(X_train)\n",
    "    loss = loss_fn(y_pred, y_train)\n",
    "\n",
    "    # optimizer zero grad\n",
    "    optimizer.zero_grad() # re initialize the optimizer with zero values\n",
    "\n",
    "    # loss func and back propagation\n",
    "    loss.backward()\n",
    "\n",
    "    # optimizer on loss function\n",
    "    optimizer.step()\n",
    "    \n",
    "    # set the evaluation\n",
    "    model_0.eval()\n",
    "\n",
    "    with torch.inference_mode():\n",
    "        epoch_count.append(epoch)\n",
    "        test_pred = model_0(X_test)\n",
    "        loss_pred = loss_fn(test_pred,X_test)\n",
    "    train_loss.append(loss)\n",
    "    test_loss.append(loss_pred)\n",
    "    # print(f\"Epoch {epoch} with loss of {loss_pred}\")\n",
    "\n",
    "print(model_0.state_dict())\n",
    "print(f\"Loss: {loss}\")"
   ]
  },
  {
   "cell_type": "code",
   "execution_count": 82,
   "id": "97006a0e-1836-4a64-8d5b-dbdb22367f5c",
   "metadata": {},
   "outputs": [
    {
     "data": {
      "image/png": "[encoded data removed]",
      "text/plain": [
       "<Figure size 1000x700 with 1 Axes>"
      ]
     },
     "metadata": {},
     "output_type": "display_data"
    }
   ],
   "source": [
    "with torch.inference_mode():\n",
    "    y_pred = model_0(X_test)\n",
    "    plot_data(predictions=y_pred)"
   ]
  },
  {
   "cell_type": "code",
   "execution_count": 83,
   "id": "056779f1-837c-461e-91f7-d16eab3090d5",
   "metadata": {},
   "outputs": [
    {
     "data": {
      "text/plain": [
       "[<matplotlib.lines.Line2D at 0x7f500ce9c550>]"
      ]
     },
     "execution_count": 83,
     "metadata": {},
     "output_type": "execute_result"
    },
    {
     "data": {
      "image/png": "[encoded data removed]",
      "text/plain": [
       "<Figure size 640x480 with 1 Axes>"
      ]
     },
     "metadata": {},
     "output_type": "display_data"
    }
   ],
   "source": [
    "plt.plot(epoch_count, torch.tensor(train_loss).numpy(), label=\"train loss\")\n",
    "plt.plot(epoch_count, test_loss, label=\"test loss\")"
   ]
  },
  {
   "cell_type": "markdown",
   "id": "ab54eae2-5112-464c-aeda-758ca97cb2d9",
   "metadata": {},
   "source": [
    "## saving and loading the model"
   ]
  },
  {
   "cell_type": "code",
   "execution_count": 88,
   "id": "072f3921-70fa-462e-ad5e-24e2657e602b",
   "metadata": {},
   "outputs": [
    {
     "data": {
      "text/plain": [
       "PosixPath('models/01_torch.pth')"
      ]
     },
     "execution_count": 88,
     "metadata": {},
     "output_type": "execute_result"
    }
   ],
   "source": [
    "from pathlib import Path\n",
    "\n",
    "model_path = Path(\"models\")\n",
    "model_path.mkdir(parents=True, exist_ok=True)\n",
    "\n",
    "model_name = \"01_torch.pth\"\n",
    "model_save_path = model_path/model_name\n",
    "model_save_path"
   ]
  },
  {
   "cell_type": "code",
   "execution_count": 89,
   "id": "14f37de6-03a4-4da8-80fa-459c3fbaa952",
   "metadata": {},
   "outputs": [],
   "source": [
    "## save the path\n",
    "torch.save(obj=model_0.state_dict(),f=model_save_path)"
   ]
  },
  {
   "cell_type": "code",
   "execution_count": 91,
   "id": "b0072ab7-2206-4eea-a1a3-39f599440b58",
   "metadata": {},
   "outputs": [
    {
     "name": "stdout",
     "output_type": "stream",
     "text": [
      "01_torch.pth\n"
     ]
    }
   ],
   "source": [
    "!ls models"
   ]
  },
  {
   "cell_type": "code",
   "execution_count": 94,
   "id": "fa76f92d-a7fd-4a62-a236-6d8ce79bb08f",
   "metadata": {},
   "outputs": [
    {
     "name": "stderr",
     "output_type": "stream",
     "text": [
      "/tmp/ipykernel_917/793617851.py:5: FutureWarning: You are using `torch.load` with `weights_only=False` (the current default value), which uses the default pickle module implicitly. It is possible to construct malicious pickle data which will execute arbitrary code during unpickling (See https://github.com/pytorch/pytorch/blob/main/SECURITY.md#untrusted-models for more details). In a future release, the default value for `weights_only` will be flipped to `True`. This limits the functions that could be executed during unpickling. Arbitrary objects will no longer be allowed to be loaded via this mode unless they are explicitly allowlisted by the user via `torch.serialization.add_safe_globals`. We recommend you start setting `weights_only=True` for any use case where you don't have full control of the loaded file. Please open an issue on GitHub for any issues related to this experimental feature.\n",
      "  loaded_model_0.load_state_dict(torch.load(f=model_save_path))\n"
     ]
    },
    {
     "data": {
      "text/plain": [
       "<All keys matched successfully>"
      ]
     },
     "execution_count": 94,
     "metadata": {},
     "output_type": "execute_result"
    }
   ],
   "source": [
    "## loading model\n",
    "\n",
    "loaded_model_0 = LinearRegressionModel()\n",
    "\n",
    "loaded_model_0.load_state_dict(torch.load(f=model_save_path))"
   ]
  },
  {
   "cell_type": "code",
   "execution_count": 95,
   "id": "02da665e-99e6-4e52-a6ae-75142c68bc1d",
   "metadata": {},
   "outputs": [
    {
     "data": {
      "text/plain": [
       "tensor([[True],\n",
       "        [True],\n",
       "        [True],\n",
       "        [True],\n",
       "        [True],\n",
       "        [True],\n",
       "        [True],\n",
       "        [True],\n",
       "        [True],\n",
       "        [True]])"
      ]
     },
     "execution_count": 95,
     "metadata": {},
     "output_type": "execute_result"
    }
   ],
   "source": [
    "with torch.inference_mode():\n",
    "    y_pred = model_0(X_test)\n",
    "    y_pred_loaded = loaded_model_0(X_test)\n",
    "y_pred == y_pred_loaded"
   ]
  },
  {
   "cell_type": "markdown",
   "id": "d8562bd3-6704-4418-9dfd-c0c2a3160b8e",
   "metadata": {},
   "source": [
    "## building a linear model using pytorch"
   ]
  },
  {
   "cell_type": "code",
   "execution_count": 2,
   "id": "f2b6cd6d-f6e6-4ae8-a642-f67188a27914",
   "metadata": {},
   "outputs": [
    {
     "data": {
      "text/plain": [
       "OrderedDict([('linear_layer.weight', tensor([[0.8701]])),\n",
       "             ('linear_layer.bias', tensor([0.0037]))])"
      ]
     },
     "execution_count": 2,
     "metadata": {},
     "output_type": "execute_result"
    }
   ],
   "source": [
    "class LinearR(nn.Module):\n",
    "\n",
    "    def __init__(self):\n",
    "        super().__init__()\n",
    "        \n",
    "        self.linear_layer = nn.Linear(in_features=1, out_features=1)\n",
    "\n",
    "    def forward(self, x : torch.Tensor) -> torch.Tensor:\n",
    "        return self.linear_layer(x)\n",
    "\n",
    "model_1 = LinearR()\n",
    "model_1.state_dict()"
   ]
  },
  {
   "cell_type": "code",
   "execution_count": null,
   "id": "ac0c705a-fd65-4e59-b69f-cafeef05ee07",
   "metadata": {},
   "outputs": [],
   "source": []
  }
 ],
 "metadata": {
  "kernelspec": {
   "display_name": "Python 3 (ipykernel)",
   "language": "python",
   "name": "python3"
  },
  "language_info": {
   "codemirror_mode": {
    "name": "ipython",
    "version": 3
   },
   "file_extension": ".py",
   "mimetype": "text/x-python",
   "name": "python",
   "nbconvert_exporter": "python",
   "pygments_lexer": "ipython3",
   "version": "3.11.2"
  }
 },
 "nbformat": 4,
 "nbformat_minor": 5
}
