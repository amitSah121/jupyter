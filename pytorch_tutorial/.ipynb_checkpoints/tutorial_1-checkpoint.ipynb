{
 "cells": [
  {
   "cell_type": "code",
   "execution_count": 3,
   "id": "9fe203d5-bc4c-488b-9fa3-dcd2ce452ed8",
   "metadata": {},
   "outputs": [
    {
     "name": "stdout",
     "output_type": "stream",
     "text": [
      "2.4.1+cpu\n"
     ]
    }
   ],
   "source": [
    "import torch\n",
    "print(torch.__version__)"
   ]
  },
  {
   "cell_type": "markdown",
   "id": "e43c63f3-bca7-4eba-9546-b413a6a0cd66",
   "metadata": {},
   "source": [
    "## Tensors"
   ]
  },
  {
   "cell_type": "code",
   "execution_count": 13,
   "id": "dac81c3d-fa13-4f04-80de-426b2dc8b297",
   "metadata": {},
   "outputs": [
    {
     "data": {
      "text/plain": [
       "tensor([3, 4])"
      ]
     },
     "execution_count": 13,
     "metadata": {},
     "output_type": "execute_result"
    }
   ],
   "source": [
    "scalar = torch.tensor([3,4])\n",
    "scalar"
   ]
  },
  {
   "cell_type": "code",
   "execution_count": 23,
   "id": "534a035d-86b3-4970-a6de-c9c932c9fb2c",
   "metadata": {},
   "outputs": [
    {
     "name": "stdout",
     "output_type": "stream",
     "text": [
      "tensor(25., grad_fn=<SumBackward0>)\n",
      "tensor([6., 8.])\n"
     ]
    }
   ],
   "source": [
    "s1 = torch.tensor([3.,4.],requires_grad=True)\n",
    "o1 = s1.pow(2).sum()\n",
    "print(o1)\n",
    "o1.backward()\n",
    "# print(o1)\n",
    "print(s1.grad)"
   ]
  },
  {
   "cell_type": "code",
   "execution_count": 26,
   "id": "fb9d9273-74a4-40e6-990c-122987284bad",
   "metadata": {},
   "outputs": [
    {
     "name": "stdout",
     "output_type": "stream",
     "text": [
      "torch.Size([2, 3])\n",
      "2\n"
     ]
    }
   ],
   "source": [
    "s2 = torch.tensor([[3,3,1],[3,2,1]])\n",
    "print(s2.shape)\n",
    "print(s2.ndim)"
   ]
  },
  {
   "cell_type": "markdown",
   "id": "f136297f-830a-43da-bb8a-fde8d6147830",
   "metadata": {},
   "source": [
    "## Random Tensors\n",
    "\n",
    "because\n",
    "\n",
    "`start with random -> look the data -> update the numbers -> look the data ....`"
   ]
  },
  {
   "cell_type": "code",
   "execution_count": null,
   "id": "1f5a0c1d-2087-4e19-ad75-dc52053ec218",
   "metadata": {},
   "outputs": [],
   "source": []
  }
 ],
 "metadata": {
  "kernelspec": {
   "display_name": "Python 3 (ipykernel)",
   "language": "python",
   "name": "python3"
  },
  "language_info": {
   "codemirror_mode": {
    "name": "ipython",
    "version": 3
   },
   "file_extension": ".py",
   "mimetype": "text/x-python",
   "name": "python",
   "nbconvert_exporter": "python",
   "pygments_lexer": "ipython3",
   "version": "3.11.2"
  }
 },
 "nbformat": 4,
 "nbformat_minor": 5
}
