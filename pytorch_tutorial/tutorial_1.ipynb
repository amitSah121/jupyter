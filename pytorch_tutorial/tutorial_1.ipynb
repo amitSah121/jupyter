{
 "cells": [
  {
   "cell_type": "code",
   "execution_count": 2,
   "id": "9fe203d5-bc4c-488b-9fa3-dcd2ce452ed8",
   "metadata": {},
   "outputs": [
    {
     "name": "stdout",
     "output_type": "stream",
     "text": [
      "2.4.1+cpu\n"
     ]
    }
   ],
   "source": [
    "import torch\n",
    "print(torch.__version__)"
   ]
  },
  {
   "cell_type": "markdown",
   "id": "e43c63f3-bca7-4eba-9546-b413a6a0cd66",
   "metadata": {},
   "source": [
    "## Tensors"
   ]
  },
  {
   "cell_type": "code",
   "execution_count": 13,
   "id": "dac81c3d-fa13-4f04-80de-426b2dc8b297",
   "metadata": {},
   "outputs": [
    {
     "data": {
      "text/plain": [
       "tensor([3, 4])"
      ]
     },
     "execution_count": 13,
     "metadata": {},
     "output_type": "execute_result"
    }
   ],
   "source": [
    "scalar = torch.tensor([3,4])\n",
    "scalar"
   ]
  },
  {
   "cell_type": "code",
   "execution_count": 23,
   "id": "534a035d-86b3-4970-a6de-c9c932c9fb2c",
   "metadata": {},
   "outputs": [
    {
     "name": "stdout",
     "output_type": "stream",
     "text": [
      "tensor(25., grad_fn=<SumBackward0>)\n",
      "tensor([6., 8.])\n"
     ]
    }
   ],
   "source": [
    "s1 = torch.tensor([3.,4.],requires_grad=True)\n",
    "o1 = s1.pow(2).sum()\n",
    "print(o1)\n",
    "o1.backward()\n",
    "# print(o1)\n",
    "print(s1.grad)"
   ]
  },
  {
   "cell_type": "code",
   "execution_count": 26,
   "id": "fb9d9273-74a4-40e6-990c-122987284bad",
   "metadata": {},
   "outputs": [
    {
     "name": "stdout",
     "output_type": "stream",
     "text": [
      "torch.Size([2, 3])\n",
      "2\n"
     ]
    }
   ],
   "source": [
    "s2 = torch.tensor([[3,3,1],[3,2,1]])\n",
    "print(s2.shape)\n",
    "print(s2.ndim)"
   ]
  },
  {
   "cell_type": "markdown",
   "id": "f136297f-830a-43da-bb8a-fde8d6147830",
   "metadata": {},
   "source": [
    "## Random Tensors\n",
    "\n",
    "because\n",
    "\n",
    "`start with random -> look the data -> update the numbers -> look the data ....`"
   ]
  },
  {
   "cell_type": "code",
   "execution_count": 3,
   "id": "1f5a0c1d-2087-4e19-ad75-dc52053ec218",
   "metadata": {},
   "outputs": [
    {
     "data": {
      "text/plain": [
       "tensor([[0.0869, 0.9520, 0.1970, 0.5299],\n",
       "        [0.2518, 0.9227, 0.2297, 0.2108],\n",
       "        [0.1499, 0.5448, 0.1573, 0.1878]])"
      ]
     },
     "execution_count": 3,
     "metadata": {},
     "output_type": "execute_result"
    }
   ],
   "source": [
    "r1 = torch.rand(3,4)\n",
    "r1"
   ]
  },
  {
   "cell_type": "code",
   "execution_count": 4,
   "id": "db42e019-bf95-4963-bae1-8bb8c2de4689",
   "metadata": {},
   "outputs": [
    {
     "data": {
      "text/plain": [
       "tensor([[0., 0., 0., 0.],\n",
       "        [0., 0., 0., 0.],\n",
       "        [0., 0., 0., 0.]])"
      ]
     },
     "execution_count": 4,
     "metadata": {},
     "output_type": "execute_result"
    }
   ],
   "source": [
    "z1 = torch.zeros(size=(3,4))\n",
    "z1"
   ]
  },
  {
   "cell_type": "code",
   "execution_count": 5,
   "id": "eb0d90d5-f6f6-4d44-947c-42a3361844fb",
   "metadata": {},
   "outputs": [
    {
     "data": {
      "text/plain": [
       "tensor([[1., 1., 1., 1.],\n",
       "        [1., 1., 1., 1.],\n",
       "        [1., 1., 1., 1.]])"
      ]
     },
     "execution_count": 5,
     "metadata": {},
     "output_type": "execute_result"
    }
   ],
   "source": [
    "o2 = torch.ones(size=(3,4))\n",
    "o2"
   ]
  },
  {
   "cell_type": "markdown",
   "id": "13740e93-1ecb-4487-8c9e-59a2a1b647e7",
   "metadata": {},
   "source": [
    "## Torch with arange"
   ]
  },
  {
   "cell_type": "code",
   "execution_count": 8,
   "id": "d52bf34b-1b29-44f6-b215-29d8d509b833",
   "metadata": {},
   "outputs": [
    {
     "data": {
      "text/plain": [
       "tensor([ 0,  5, 10, 15, 20, 25, 30, 35])"
      ]
     },
     "execution_count": 8,
     "metadata": {},
     "output_type": "execute_result"
    }
   ],
   "source": [
    "torch.arange(0,40,5)"
   ]
  },
  {
   "cell_type": "code",
   "execution_count": 9,
   "id": "b7a40568-1a69-43be-abb3-9f9fe113c61e",
   "metadata": {},
   "outputs": [
    {
     "data": {
      "text/plain": [
       "tensor([ 5,  7,  9, 11, 13])"
      ]
     },
     "execution_count": 9,
     "metadata": {},
     "output_type": "execute_result"
    }
   ],
   "source": [
    "torch.arange(start=5, end=15, step=2)"
   ]
  },
  {
   "cell_type": "code",
   "execution_count": 10,
   "id": "4fe452aa-6be1-4841-99eb-e03f579559ea",
   "metadata": {},
   "outputs": [
    {
     "data": {
      "text/plain": [
       "tensor([[0., 0., 0., 0.],\n",
       "        [0., 0., 0., 0.],\n",
       "        [0., 0., 0., 0.]])"
      ]
     },
     "execution_count": 10,
     "metadata": {},
     "output_type": "execute_result"
    }
   ],
   "source": [
    "## Tensors like\n",
    "torch.zeros_like(o2)"
   ]
  },
  {
   "cell_type": "markdown",
   "id": "2d83f7a2-7840-4783-9622-b5c3ebfbab5b",
   "metadata": {},
   "source": [
    "## datatypes"
   ]
  },
  {
   "cell_type": "code",
   "execution_count": 12,
   "id": "af8b657a-1dc0-4a0e-b8b9-5099dd006321",
   "metadata": {},
   "outputs": [
    {
     "data": {
      "text/plain": [
       "(tensor([1, 2, 3], dtype=torch.int32), torch.int32)"
      ]
     },
     "execution_count": 12,
     "metadata": {},
     "output_type": "execute_result"
    }
   ],
   "source": [
    "a1 = torch.tensor([1,2,3],dtype=torch.int32)\n",
    "a1,a1.dtype"
   ]
  },
  {
   "cell_type": "code",
   "execution_count": 13,
   "id": "7c0a30ed-2bd1-42a5-91e2-be5ef6e3afd2",
   "metadata": {},
   "outputs": [],
   "source": [
    "def summary(p):\n",
    "    print(f\"Dtype: {p.dtype}\")\n",
    "    print(f\"shape: {p.shape}\")\n",
    "    print(f\"Device: {p.device}\")"
   ]
  },
  {
   "cell_type": "code",
   "execution_count": 18,
   "id": "6230ced1-2aa2-42c6-9845-61795aa7106c",
   "metadata": {},
   "outputs": [
    {
     "data": {
      "text/plain": [
       "tensor([1, 2, 3])"
      ]
     },
     "execution_count": 18,
     "metadata": {},
     "output_type": "execute_result"
    }
   ],
   "source": [
    "a2 = torch.tensor([1,2,3])\n",
    "a2"
   ]
  },
  {
   "cell_type": "markdown",
   "id": "ff354989-8b88-4ee6-92e6-395e621f13bb",
   "metadata": {},
   "source": [
    "## Tensor menipulation\n",
    "\n",
    "* Add\n",
    "* Mul\n",
    "* sub\n",
    "* div\n",
    "* matrix mul"
   ]
  },
  {
   "cell_type": "code",
   "execution_count": 19,
   "id": "cb04f287-0144-4386-a19c-9d6ff70e5e96",
   "metadata": {},
   "outputs": [],
   "source": [
    "t1 = torch.tensor([1,2,3])"
   ]
  },
  {
   "cell_type": "code",
   "execution_count": 20,
   "id": "6f8d5ced-e8ba-40c6-bbf0-2791898c500f",
   "metadata": {},
   "outputs": [
    {
     "data": {
      "text/plain": [
       "(tensor([11, 12, 13]), tensor([11, 12, 13]))"
      ]
     },
     "execution_count": 20,
     "metadata": {},
     "output_type": "execute_result"
    }
   ],
   "source": [
    "t1+10, torch.add(t1,10)"
   ]
  },
  {
   "cell_type": "code",
   "execution_count": 21,
   "id": "5f01e3a8-c93a-4d80-8d5c-973532bf713f",
   "metadata": {},
   "outputs": [
    {
     "data": {
      "text/plain": [
       "(tensor([10, 20, 30]), tensor([10, 20, 30]))"
      ]
     },
     "execution_count": 21,
     "metadata": {},
     "output_type": "execute_result"
    }
   ],
   "source": [
    "t1*10, torch.mul(t1,10)"
   ]
  },
  {
   "cell_type": "code",
   "execution_count": 24,
   "id": "1c6f7206-ab52-4daa-9586-9cacd5087f4d",
   "metadata": {},
   "outputs": [
    {
     "data": {
      "text/plain": [
       "(tensor([1, 4, 9]), tensor([1, 4, 9]))"
      ]
     },
     "execution_count": 24,
     "metadata": {},
     "output_type": "execute_result"
    }
   ],
   "source": [
    "# elementwise multiplication\n",
    "t1*t1, torch.mul(t1,t1)"
   ]
  },
  {
   "cell_type": "code",
   "execution_count": 34,
   "id": "78a337ae-7fe2-41bf-979b-a5c1783d41f4",
   "metadata": {},
   "outputs": [
    {
     "name": "stdout",
     "output_type": "stream",
     "text": [
      "CPU times: user 145 μs, sys: 78 μs, total: 223 μs\n",
      "Wall time: 245 μs\n"
     ]
    },
    {
     "data": {
      "text/plain": [
       "tensor(14)"
      ]
     },
     "execution_count": 34,
     "metadata": {},
     "output_type": "execute_result"
    }
   ],
   "source": [
    "%%time\n",
    "# matrix multiplication\n",
    "torch.matmul(t1,t1) ## gives a dot product for a vector or a n*1 or 1*n shape"
   ]
  },
  {
   "cell_type": "code",
   "execution_count": 29,
   "id": "30b3297b-7957-4990-a64a-8ef70a74da94",
   "metadata": {},
   "outputs": [
    {
     "name": "stdout",
     "output_type": "stream",
     "text": [
      "CPU times: user 4.64 ms, sys: 3.86 ms, total: 8.5 ms\n",
      "Wall time: 5.26 ms\n"
     ]
    },
    {
     "data": {
      "text/plain": [
       "tensor(14)"
      ]
     },
     "execution_count": 29,
     "metadata": {},
     "output_type": "execute_result"
    }
   ],
   "source": [
    "%%time\n",
    "value = 0\n",
    "for i in t1:\n",
    "    value += i*i\n",
    "value"
   ]
  },
  {
   "cell_type": "code",
   "execution_count": 33,
   "id": "16f4d49c-31b3-4080-9afe-bec85cee8657",
   "metadata": {},
   "outputs": [
    {
     "name": "stdout",
     "output_type": "stream",
     "text": [
      "CPU times: user 55 μs, sys: 30 μs, total: 85 μs\n",
      "Wall time: 90.4 μs\n"
     ]
    },
    {
     "data": {
      "text/plain": [
       "tensor(14)"
      ]
     },
     "execution_count": 33,
     "metadata": {},
     "output_type": "execute_result"
    }
   ],
   "source": [
    "%%time\n",
    "t1@t1"
   ]
  },
  {
   "cell_type": "code",
   "execution_count": 36,
   "id": "ab9be18e-99f9-412a-82ab-1e9fcebba729",
   "metadata": {},
   "outputs": [
    {
     "name": "stdout",
     "output_type": "stream",
     "text": [
      "CPU times: user 1.23 ms, sys: 96 μs, total: 1.32 ms\n",
      "Wall time: 1.12 ms\n"
     ]
    },
    {
     "data": {
      "text/plain": [
       "tensor([[0.9712, 1.5431, 1.0640],\n",
       "        [1.0893, 1.4020, 1.1188],\n",
       "        [0.9706, 1.3117, 0.8028],\n",
       "        [1.2982, 1.8818, 1.3276]])"
      ]
     },
     "execution_count": 36,
     "metadata": {},
     "output_type": "execute_result"
    }
   ],
   "source": [
    "%%time\n",
    "torch.rand(4,5) @ torch.rand(5,3)"
   ]
  },
  {
   "cell_type": "code",
   "execution_count": 37,
   "id": "8a5889e0-1ec8-4199-97b9-32c9c9b4c438",
   "metadata": {},
   "outputs": [
    {
     "data": {
      "text/plain": [
       "tensor([[0.7294, 0.5871],\n",
       "        [0.5871, 0.8027]])"
      ]
     },
     "execution_count": 37,
     "metadata": {},
     "output_type": "execute_result"
    }
   ],
   "source": [
    "t2 = torch.rand(3,2)\n",
    "t2.T@t2"
   ]
  },
  {
   "cell_type": "markdown",
   "id": "cfd7634f-56b9-42ab-adcb-b08d6944d7f7",
   "metadata": {},
   "source": [
    "## tensor aggregation\n",
    "### min, max, sum, mean, etc"
   ]
  },
  {
   "cell_type": "code",
   "execution_count": 41,
   "id": "5dee76cf-54cb-4a4c-a7c9-7bfcdc7094e8",
   "metadata": {},
   "outputs": [
    {
     "data": {
      "text/plain": [
       "(tensor(6), tensor(1), tensor(2., dtype=torch.float64))"
      ]
     },
     "execution_count": 41,
     "metadata": {},
     "output_type": "execute_result"
    }
   ],
   "source": [
    "t1.sum(), t1.min(), torch.mean(t1.type(torch.float64))"
   ]
  },
  {
   "cell_type": "code",
   "execution_count": 47,
   "id": "63dd210c-50bf-4ff0-8929-6368a83212e1",
   "metadata": {},
   "outputs": [
    {
     "data": {
      "text/plain": [
       "tensor(1)"
      ]
     },
     "execution_count": 47,
     "metadata": {},
     "output_type": "execute_result"
    }
   ],
   "source": [
    "## argmax is to find the position of element having the max value\n",
    "torch.tensor([1,3,2]).argmax()"
   ]
  },
  {
   "cell_type": "markdown",
   "id": "84bd796f-621e-4405-bf79-dec0fc3d4d37",
   "metadata": {},
   "source": [
    "## reshaping, stacking, squeezing and unsqueezing tensors\n",
    "\n",
    "* rashaping\n",
    "* view\n",
    "* stacking - removes 1 dim\n",
    "* squeezing - adds 1 dim\n",
    "* unsqueezing\n",
    "* permute"
   ]
  },
  {
   "cell_type": "code",
   "execution_count": 48,
   "id": "3c20c6e7-7fc1-4a87-a6a3-17b5928c20e0",
   "metadata": {},
   "outputs": [],
   "source": [
    "t1 = torch.tensor([1,2,3,4])"
   ]
  },
  {
   "cell_type": "code",
   "execution_count": 50,
   "id": "162995a2-eb58-45de-88aa-eb33a9aa7ead",
   "metadata": {},
   "outputs": [
    {
     "data": {
      "text/plain": [
       "(tensor([[1, 2, 3, 4]]),\n",
       " tensor([[1, 2],\n",
       "         [3, 4]]))"
      ]
     },
     "execution_count": 50,
     "metadata": {},
     "output_type": "execute_result"
    }
   ],
   "source": [
    "t1.reshape(1,4), t1.reshape(2,2)"
   ]
  },
  {
   "cell_type": "code",
   "execution_count": 60,
   "id": "59d9a1bb-d484-4731-9e89-797fa0aa79e1",
   "metadata": {},
   "outputs": [
    {
     "data": {
      "text/plain": [
       "tensor([[1, 1, 1, 1],\n",
       "        [2, 2, 2, 2],\n",
       "        [3, 3, 3, 3],\n",
       "        [4, 4, 4, 4]])"
      ]
     },
     "execution_count": 60,
     "metadata": {},
     "output_type": "execute_result"
    }
   ],
   "source": [
    "torch.stack([t1,t1,t1,t1], dim=1)"
   ]
  },
  {
   "cell_type": "code",
   "execution_count": 63,
   "id": "1f475435-80d5-4853-ad67-f0c0701ed317",
   "metadata": {},
   "outputs": [
    {
     "data": {
      "text/plain": [
       "torch.Size([3, 255, 255])"
      ]
     },
     "execution_count": 63,
     "metadata": {},
     "output_type": "execute_result"
    }
   ],
   "source": [
    "t2 = torch.rand(255,255,3) # shape is 255 * 255 * 3\n",
    "t2 = t2.permute(2,0,1) # meaning makes it 3 * 255 * 255\n",
    "t2.shape"
   ]
  },
  {
   "cell_type": "markdown",
   "id": "24eae430-adcc-411e-9aae-a3ee3e99327c",
   "metadata": {},
   "source": [
    "## indexing and selecting"
   ]
  },
  {
   "cell_type": "code",
   "execution_count": 70,
   "id": "1ea8c324-9167-483f-9e78-d323114c7162",
   "metadata": {},
   "outputs": [],
   "source": [
    "t1 = torch.arange(1,10).reshape(3,3)"
   ]
  },
  {
   "cell_type": "code",
   "execution_count": 71,
   "id": "b4c9cf6f-7650-4905-aa85-054dd92d5cd0",
   "metadata": {},
   "outputs": [
    {
     "data": {
      "text/plain": [
       "tensor([[1, 2, 3],\n",
       "        [4, 5, 6],\n",
       "        [7, 8, 9]])"
      ]
     },
     "execution_count": 71,
     "metadata": {},
     "output_type": "execute_result"
    }
   ],
   "source": [
    "t1"
   ]
  },
  {
   "cell_type": "code",
   "execution_count": 72,
   "id": "73bbde7d-13de-4fef-93ea-a8e0356226f2",
   "metadata": {},
   "outputs": [
    {
     "data": {
      "text/plain": [
       "tensor([1, 2, 3])"
      ]
     },
     "execution_count": 72,
     "metadata": {},
     "output_type": "execute_result"
    }
   ],
   "source": [
    "t1[0]"
   ]
  },
  {
   "cell_type": "code",
   "execution_count": 73,
   "id": "7e9ce6fb-9c2d-43e6-babd-beedc156784b",
   "metadata": {},
   "outputs": [
    {
     "data": {
      "text/plain": [
       "tensor(1)"
      ]
     },
     "execution_count": 73,
     "metadata": {},
     "output_type": "execute_result"
    }
   ],
   "source": [
    "t1[0,0]"
   ]
  },
  {
   "cell_type": "code",
   "execution_count": 76,
   "id": "cf81d1c2-17a6-46d2-83ab-add73fe3ebff",
   "metadata": {},
   "outputs": [
    {
     "data": {
      "text/plain": [
       "tensor([2, 5, 8])"
      ]
     },
     "execution_count": 76,
     "metadata": {},
     "output_type": "execute_result"
    }
   ],
   "source": [
    "t1[:,1] ## every row and 2nd column"
   ]
  },
  {
   "cell_type": "markdown",
   "id": "0c283dd7-7030-4db4-8f8e-e84ad9f5e4ad",
   "metadata": {},
   "source": [
    "## pytorch and numpy\n",
    "\n",
    "* numpy to torch ==> torch.from_numpy(ndarray)\n",
    "* torch to numpy ==> torch.Tensor.numpy()"
   ]
  },
  {
   "cell_type": "markdown",
   "id": "ef393012-8e1d-495d-92f7-a67e735f18e6",
   "metadata": {},
   "source": [
    "## reproducibility\n",
    "\n",
    "we use random seed to flavour randomness"
   ]
  },
  {
   "cell_type": "code",
   "execution_count": 80,
   "id": "9683ba02-2e03-4213-972f-19f2fdb7809b",
   "metadata": {},
   "outputs": [
    {
     "name": "stdout",
     "output_type": "stream",
     "text": [
      "tensor([[True, True, True]])\n",
      "tensor([[False, False, False]])\n"
     ]
    }
   ],
   "source": [
    "## manual seed\n",
    "seed = 42\n",
    "\n",
    "torch.manual_seed(seed)\n",
    "t1 = torch.rand(1,3)\n",
    "\n",
    "\n",
    "torch.manual_seed(seed)\n",
    "t2 = torch.rand(1,3)\n",
    "\n",
    "print(t1 == t2)\n",
    "\n",
    "\n",
    "torch.manual_seed(seed)\n",
    "t1 = torch.rand(1,3)\n",
    "t2 = torch.rand(1,3)\n",
    "\n",
    "print(t1 == t2)"
   ]
  }
 ],
 "metadata": {
  "kernelspec": {
   "display_name": "Python 3 (ipykernel)",
   "language": "python",
   "name": "python3"
  },
  "language_info": {
   "codemirror_mode": {
    "name": "ipython",
    "version": 3
   },
   "file_extension": ".py",
   "mimetype": "text/x-python",
   "name": "python",
   "nbconvert_exporter": "python",
   "pygments_lexer": "ipython3",
   "version": "3.11.2"
  }
 },
 "nbformat": 4,
 "nbformat_minor": 5
}
