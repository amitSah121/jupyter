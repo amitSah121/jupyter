{
 "cells": [
  {
   "cell_type": "code",
   "execution_count": 1,
   "id": "6ed1897d-1978-4b73-9220-5b971a1c4f81",
   "metadata": {},
   "outputs": [],
   "source": [
    "import pandas as pd\n",
    "import numpy as np\n",
    "import torch\n",
    "from torch import nn\n",
    "import matplotlib.pyplot as plt\n",
    "import random"
   ]
  },
  {
   "cell_type": "code",
   "execution_count": 2,
   "id": "df227330-138a-48c6-a522-be9d06d95f8e",
   "metadata": {},
   "outputs": [],
   "source": [
    "data = torch.tensor([\n",
    "    [[0,0,0,0],\n",
    "     [0,1,0,0],\n",
    "     [0,0,0,0],\n",
    "     [0,0,0,0]],\n",
    "    \n",
    "    [[0,0,0,0],\n",
    "     [0,0,1,0],\n",
    "     [0,0,0,0],\n",
    "     [0,0,0,0]],\n",
    "    \n",
    "    [[0,0,0,0],\n",
    "     [0,0,0,0],\n",
    "     [0,1,0,0],\n",
    "     [0,0,0,0]],\n",
    "    \n",
    "    [[0,0,0,0],\n",
    "     [0,0,0,0],\n",
    "     [0,0,1,0],\n",
    "     [0,0,0,0]],\n",
    "\n",
    "    [[0,0,0,0],\n",
    "     [0,1,1,0],\n",
    "     [0,0,0,0],\n",
    "     [0,0,0,0]],\n",
    "    \n",
    "    [[0,0,0,0],\n",
    "     [0,1,0,0],\n",
    "     [0,0,1,0],\n",
    "     [0,0,0,0]],\n",
    "    \n",
    "    [[0,0,0,0],\n",
    "     [0,1,0,0],\n",
    "     [0,1,0,0],\n",
    "     [0,0,0,0]],\n",
    "    \n",
    "    [[0,0,0,0],\n",
    "     [0,0,1,0],\n",
    "     [0,0,1,0],\n",
    "     [0,0,0,0]],\n",
    "    \n",
    "    [[0,0,0,0],\n",
    "     [0,0,0,0],\n",
    "     [0,1,1,0],\n",
    "     [0,0,0,0]],\n",
    "    \n",
    "    [[0,0,0,0],\n",
    "     [0,0,1,0],\n",
    "     [0,1,0,0],\n",
    "     [0,0,0,0]],\n",
    "    \n",
    "    [[0,0,0,0],\n",
    "     [0,1,1,0],\n",
    "     [0,0,1,0],\n",
    "     [0,0,0,0]],\n",
    "    \n",
    "    [[0,0,0,0],\n",
    "     [0,0,1,0],\n",
    "     [0,1,1,0],\n",
    "     [0,0,0,0]],\n",
    "    \n",
    "    [[0,0,0,0],\n",
    "     [0,1,0,0],\n",
    "     [0,1,1,0],\n",
    "     [0,0,0,0]],\n",
    "    \n",
    "    [[0,0,0,0],\n",
    "     [0,1,1,0],\n",
    "     [0,1,0,0],\n",
    "     [0,0,0,0]],\n",
    "    \n",
    "    [[0,0,0,0],\n",
    "     [0,1,1,0],\n",
    "     [0,1,1,0],\n",
    "     [0,0,0,0]],\n",
    "], dtype=torch.float) # in_features = 2 \n",
    "\n",
    "# train_labels = torch.tensor([[1],[1],[1],[1],[2],[2],[2],[2],[2],[2],[3],[3],[3],[3],[4]], dtype=torch.float) # out_features = 1\n",
    "labels = torch.tensor([[1],[2],[3],[4],[3],[5],[4],[6],[7],[5],[7],[9],[8],[6],[10]], dtype=torch.float) # out_features = 1"
   ]
  },
  {
   "cell_type": "code",
   "execution_count": 3,
   "id": "4cee40dc-7885-49b7-a9e6-f77703140900",
   "metadata": {},
   "outputs": [
    {
     "data": {
      "text/plain": [
       "(torch.Size([15, 4, 4]), torch.Size([15, 1]))"
      ]
     },
     "execution_count": 3,
     "metadata": {},
     "output_type": "execute_result"
    }
   ],
   "source": [
    "data.shape, labels.shape"
   ]
  },
  {
   "cell_type": "code",
   "execution_count": 4,
   "id": "ff253e6b-a6ed-42b9-9a64-5570531fbe09",
   "metadata": {},
   "outputs": [
    {
     "data": {
      "text/plain": [
       "<Figure size 100x100 with 0 Axes>"
      ]
     },
     "metadata": {},
     "output_type": "display_data"
    },
    {
     "data": {
      "image/png": "[encoded data removed]",
      "text/plain": [
       "<Figure size 640x480 with 4 Axes>"
      ]
     },
     "metadata": {},
     "output_type": "display_data"
    },
    {
     "data": {
      "image/png": "[encoded data removed]",
      "text/plain": [
       "<Figure size 640x480 with 6 Axes>"
      ]
     },
     "metadata": {},
     "output_type": "display_data"
    },
    {
     "data": {
      "image/png": "[encoded data removed]",
      "text/plain": [
       "<Figure size 640x480 with 4 Axes>"
      ]
     },
     "metadata": {},
     "output_type": "display_data"
    },
    {
     "data": {
      "image/png": "[encoded data removed]",
      "text/plain": [
       "<Figure size 640x480 with 1 Axes>"
      ]
     },
     "metadata": {},
     "output_type": "display_data"
    }
   ],
   "source": [
    "plt.figure(figsize=(1,1))\n",
    "arr = [4,6,4,1]\n",
    "\n",
    "for i in range(4):\n",
    "    fig, axes = plt.subplots(1,arr[i])\n",
    "    q = 0\n",
    "    for p in range(i):\n",
    "        q += arr[p] \n",
    "    # print(q)\n",
    "    for j in range(arr[i]):\n",
    "        if arr[i] != 1:\n",
    "            axes[j].imshow(data[i*4+j])\n",
    "            axes[j].set_xticks([])\n",
    "            axes[j].set_yticks([])\n",
    "            axes[j].set_title(str(labels[q + j][0].numpy()))\n",
    "        else:\n",
    "            axes.imshow(data[i*4+j])\n",
    "            axes.set_xticks([])\n",
    "            axes.set_yticks([])\n",
    "            axes.set_title(str(labels[q+j][0].numpy()))\n",
    "        # plt.show()"
   ]
  },
  {
   "cell_type": "code",
   "execution_count": 5,
   "id": "00d44505-cfd0-4aee-8bdb-66d8e35db795",
   "metadata": {},
   "outputs": [],
   "source": [
    "class Model(nn.Module):\n",
    "    def __init__(self,in_f,out_f):\n",
    "        super(Model,self).__init__()\n",
    "\n",
    "        self.conv1 = nn.Conv2d(in_channels=in_f, out_channels=2, kernel_size=1, stride=1)\n",
    "        self.conv2 = nn.Conv2d(in_channels=2, out_channels=out_f, kernel_size=1, stride=1)\n",
    "        # self.relu = nn.ReLU()\n",
    "        self.avgpool = nn.AvgPool2d(4)\n",
    "        self.flat = nn.Linear(1, out_f)\n",
    "\n",
    "    def forward(self,x):\n",
    "        # print(\"Model: \")\n",
    "        # print(\"Shape of x: \",x.shape)\n",
    "        x = self.conv1(x)\n",
    "        # print(\"Shape of x after conv1: \", x.shape)\n",
    "        x = self.conv2(x)\n",
    "        # print(\"Shape of x after conv2: \", x.shape)\n",
    "        # x = self.relu(x)\n",
    "        x = self.avgpool(x)\n",
    "        # print(\"Shape of x after avgpool: \", x.shape)\n",
    "        x = self.flat(x)\n",
    "        # print(\"Shape of x after flatten: \", x.shape)\n",
    "        return x"
   ]
  },
  {
   "cell_type": "code",
   "execution_count": 6,
   "id": "2bf477a5-fe24-41ee-a7d1-80d7764e53c2",
   "metadata": {},
   "outputs": [],
   "source": [
    "model = Model(1,1) # image_channel"
   ]
  },
  {
   "cell_type": "code",
   "execution_count": 7,
   "id": "76d1024e-fd84-410b-8632-11cb415bb0f8",
   "metadata": {
    "scrolled": true
   },
   "outputs": [
    {
     "data": {
      "text/plain": [
       "(torch.Size([2, 1, 1, 1]),\n",
       " torch.Size([2]),\n",
       " [Parameter containing:\n",
       "  tensor([[[[-0.7201]]],\n",
       "  \n",
       "  \n",
       "          [[[-0.7611]]]], requires_grad=True),\n",
       "  Parameter containing:\n",
       "  tensor([-0.1725,  0.5869], requires_grad=True),\n",
       "  Parameter containing:\n",
       "  tensor([[[[-0.6361]],\n",
       "  \n",
       "           [[ 0.6488]]]], requires_grad=True),\n",
       "  Parameter containing:\n",
       "  tensor([0.1562], requires_grad=True),\n",
       "  Parameter containing:\n",
       "  tensor([[0.4464]], requires_grad=True),\n",
       "  Parameter containing:\n",
       "  tensor([-0.7471], requires_grad=True)])"
      ]
     },
     "execution_count": 7,
     "metadata": {},
     "output_type": "execute_result"
    }
   ],
   "source": [
    "p = list(model.parameters())\n",
    "p[0].shape, p[1].shape, p"
   ]
  },
  {
   "cell_type": "code",
   "execution_count": 8,
   "id": "12eb1345-4405-46ce-8569-415ac7d7fb45",
   "metadata": {},
   "outputs": [
    {
     "name": "stdout",
     "output_type": "stream",
     "text": [
      "----------------------------------------------------------------\n",
      "        Layer (type)               Output Shape         Param #\n",
      "================================================================\n",
      "            Conv2d-1              [-1, 2, 4, 4]               4\n",
      "            Conv2d-2              [-1, 1, 4, 4]               3\n",
      "         AvgPool2d-3              [-1, 1, 1, 1]               0\n",
      "            Linear-4              [-1, 1, 1, 1]               2\n",
      "================================================================\n",
      "Total params: 9\n",
      "Trainable params: 9\n",
      "Non-trainable params: 0\n",
      "----------------------------------------------------------------\n",
      "Input size (MB): 0.00\n",
      "Forward/backward pass size (MB): 0.00\n",
      "Params size (MB): 0.00\n",
      "Estimated Total Size (MB): 0.00\n",
      "----------------------------------------------------------------\n"
     ]
    }
   ],
   "source": [
    "from torchsummary import summary\n",
    "summary(model, input_size=(1,4,4)) # channels, width, height"
   ]
  },
  {
   "cell_type": "code",
   "execution_count": 9,
   "id": "4cafdcee-e345-4a1a-8129-b88a0f894ffc",
   "metadata": {},
   "outputs": [
    {
     "data": {
      "text/plain": [
       "(torch.Size([10, 4, 4]), torch.Size([3, 4, 4]), torch.Size([2, 4, 4]))"
      ]
     },
     "execution_count": 9,
     "metadata": {},
     "output_type": "execute_result"
    }
   ],
   "source": [
    "train_size = 10\n",
    "val_size = 3\n",
    "test_size = 2\n",
    "\n",
    "random.seed(42)\n",
    "sample_index_arr = random.sample(range(0, data.shape[0]), 15)\n",
    "\n",
    "train_data = torch.from_numpy(np.array([data[sample_index_arr[i]] for i in range(train_size)])).float()\n",
    "train_labels = torch.from_numpy(np.array([labels[sample_index_arr[i]] for i in range(train_size)])).float()\n",
    "\n",
    "val_data = torch.from_numpy(np.array([data[sample_index_arr[i+train_size]] for i in range(val_size)])).float()\n",
    "val_labels = torch.from_numpy(np.array([labels[sample_index_arr[i+train_size]] for i in range(val_size)])).float()\n",
    "\n",
    "test_data = torch.from_numpy(np.array([data[sample_index_arr[i+train_size+val_size]] for i in range(test_size)])).float()\n",
    "test_labels = torch.from_numpy(np.array([labels[sample_index_arr[i+train_size+val_size]] for i in range(test_size)])).float()\n",
    "\n",
    "train_data.shape, val_data.shape, test_data.shape"
   ]
  },
  {
   "cell_type": "code",
   "execution_count": 10,
   "id": "2920bd97-bda8-433c-a356-ddce559a7c11",
   "metadata": {},
   "outputs": [],
   "source": [
    "loss_fn = nn.L1Loss()\n",
    "# optimizer = torch.optim.SGD(params=model.parameters(), lr=0.01)\n",
    "optimizer = torch.optim.Adam(model.parameters(), lr=0.01)\n",
    "# loss_fn = nn.CrossEntropyLoss()"
   ]
  },
  {
   "cell_type": "code",
   "execution_count": 11,
   "id": "4938b5b0-7998-47ff-85c1-30cf217cdcaa",
   "metadata": {
    "scrolled": true
   },
   "outputs": [
    {
     "data": {
      "text/plain": [
       "torch.Size([10, 1])"
      ]
     },
     "execution_count": 11,
     "metadata": {},
     "output_type": "execute_result"
    }
   ],
   "source": [
    "\n",
    "y_pred = model(train_data.unsqueeze(dim=1))\n",
    "# y_pred.squeeze(dim=0), train_labels[1], loss_fn(y_pred.squeeze(dim=0), train_labels[0])\n",
    "y_pred.squeeze(dim=1).squeeze(dim=1).shape"
   ]
  },
  {
   "cell_type": "markdown",
   "id": "b42ffd60-846b-49a5-bd29-5d4ae0cfc2d9",
   "metadata": {},
   "source": [
    "# Gradient descent\n",
    "Since I am calculating grad on every data each iteration"
   ]
  },
  {
   "cell_type": "code",
   "execution_count": 12,
   "id": "c829de47-b474-4406-924f-d2a50b9283cc",
   "metadata": {
    "scrolled": true
   },
   "outputs": [],
   "source": [
    "epochs = 1000\n",
    "\n",
    "index = []\n",
    "train_loss = []\n",
    "val_loss = []\n",
    "\n",
    "for i in range(epochs):\n",
    "    model.train()\n",
    "    y_pred = model(train_data.unsqueeze(dim=1))\n",
    "    loss = loss_fn(y_pred.squeeze(dim=1).squeeze(dim=1), train_labels)\n",
    "    with torch.no_grad():\n",
    "        train_loss.append(loss_fn(y_pred.squeeze(dim=1).squeeze(dim=1), train_labels).numpy())\n",
    "    index.append(len(index))\n",
    "\n",
    "    optimizer.zero_grad()\n",
    "\n",
    "    loss.backward()\n",
    "\n",
    "    optimizer.step()\n",
    "\n",
    "    model.eval()\n",
    "\n",
    "    with torch.no_grad():\n",
    "        y_pred_val = model(val_data.unsqueeze(dim=1))\n",
    "        loss_val = loss_fn(y_pred_val.squeeze(dim=1).squeeze(dim=1), val_labels)\n",
    "        val_loss.append(loss_val.numpy())"
   ]
  },
  {
   "cell_type": "code",
   "execution_count": 13,
   "id": "841d878f-ba27-4951-bc09-f205dbadf7d7",
   "metadata": {},
   "outputs": [
    {
     "data": {
      "text/plain": [
       "[<matplotlib.lines.Line2D at 0x7f2326b77790>]"
      ]
     },
     "execution_count": 13,
     "metadata": {},
     "output_type": "execute_result"
    },
    {
     "data": {
      "image/png": "[encoded data removed]",
      "text/plain": [
       "<Figure size 640x480 with 1 Axes>"
      ]
     },
     "metadata": {},
     "output_type": "display_data"
    }
   ],
   "source": [
    "## Plotting \n",
    "\n",
    "plt.plot(index, train_loss)\n",
    "plt.plot(index, val_loss)"
   ]
  },
  {
   "cell_type": "code",
   "execution_count": 14,
   "id": "77662f9e-79e2-491f-9bf3-a9a270c3d076",
   "metadata": {
    "scrolled": true
   },
   "outputs": [
    {
     "data": {
      "text/plain": [
       "(tensor([[6.],\n",
       "         [7.]]),\n",
       " tensor([[7.9366],\n",
       "         [4.9749]]))"
      ]
     },
     "execution_count": 14,
     "metadata": {},
     "output_type": "execute_result"
    }
   ],
   "source": [
    "with torch.no_grad():\n",
    "    y_pred = model(test_data.unsqueeze(dim=1))\n",
    "test_labels, y_pred.squeeze(dim=1).squeeze(dim=1)"
   ]
  },
  {
   "cell_type": "code",
   "execution_count": 27,
   "id": "1eafc911-11fc-40a3-afd0-b3cf5f5295e3",
   "metadata": {},
   "outputs": [
    {
     "name": "stdout",
     "output_type": "stream",
     "text": [
      "[[0 1 0 0 0 0 0 0 0 0]\n",
      " [0 1 0 0 0 0 0 0 0 0]\n",
      " [0 1 0 1 0 0 0 0 0 0]\n",
      " [0 1 0 1 0 0 0 0 0 0]\n",
      " [0 0 0 2 0 0 0 0 0 0]\n",
      " [0 0 0 1 0 0 1 0 0 0]\n",
      " [0 0 0 1 0 0 1 0 0 0]\n",
      " [0 0 0 0 0 0 1 0 0 0]\n",
      " [0 0 0 0 0 0 1 0 0 0]\n",
      " [0 0 0 0 0 0 0 0 0 1]]\n",
      "\n",
      "\n",
      "    A c t u a l  C l a s s\n",
      "P\n",
      "r\n",
      "e\n",
      "d\n",
      "i\n",
      "c\n",
      "t\n",
      "e\n",
      "d\n",
      " \n",
      "c\n",
      "l\n",
      "a\n",
      "s\n",
      "s\n",
      "\n",
      "\n",
      "\n"
     ]
    },
    {
     "data": {
      "image/png": "[encoded data removed]",
      "text/plain": [
       "<Figure size 1200x700 with 2 Axes>"
      ]
     },
     "metadata": {},
     "output_type": "display_data"
    }
   ],
   "source": [
    "from sklearn.metrics import confusion_matrix\n",
    "import seaborn as sn\n",
    "\n",
    "classes = [1,2,3,4,5,6,7,8,9,10]\n",
    "\n",
    "with torch.no_grad():\n",
    "    cf_matrix = confusion_matrix(labels, torch.floor(model(data.unsqueeze(dim=1)).squeeze(dim=1).squeeze(dim=1)).numpy())\n",
    "    print(cf_matrix)\n",
    "    df_cm = pd.DataFrame(cf_matrix , index = [i for i in classes],\n",
    "                         columns = [i for i in classes])\n",
    "    plt.figure(figsize = (12,7))\n",
    "    plt.xlabel(\"Actual Class\")\n",
    "    plt.ylabel(\"Predicted Class\")\n",
    "    sn.heatmap(df_cm, annot=True)\n",
    "    plt.plot()\n",
    "print(\"\\n\\n    A c t u a l  C l a s s\")\n",
    "for i in \"Predicted class\":\n",
    "    print(i)\n",
    "print(\"\\n\\n\")"
   ]
  },
  {
   "cell_type": "code",
   "execution_count": 16,
   "id": "6010cd0b-52c1-4add-b2a2-52a038f6db8b",
   "metadata": {
    "scrolled": true
   },
   "outputs": [
    {
     "data": {
      "text/plain": [
       "(torch.Size([15, 10]), torch.Size([15]))"
      ]
     },
     "execution_count": 16,
     "metadata": {},
     "output_type": "execute_result"
    }
   ],
   "source": [
    "with torch.no_grad():\n",
    "    p1 = torch.floor(model(data.unsqueeze(dim=1)).squeeze(dim=1).squeeze(dim=1).squeeze(dim=1)).numpy()\n",
    "labels.squeeze(dim=1)\n",
    "\n",
    "p2 = []\n",
    "\n",
    "for i in range(p1.shape[0]):\n",
    "    p2.append([0.2 if p1[i] == j+1 else 0.089 for j in range(10)])\n",
    "\n",
    "p2 = torch.from_numpy(np.array(p2))\n",
    "\n",
    "labels_temp = labels - 1\n",
    "\n",
    "p2.shape,labels_temp.squeeze(dim=1).int().shape"
   ]
  },
  {
   "cell_type": "code",
   "execution_count": 20,
   "id": "383fd2c5-fa40-4361-aa49-c3b95b4d03a2",
   "metadata": {},
   "outputs": [
    {
     "name": "stdout",
     "output_type": "stream",
     "text": [
      "dict_keys(['0', '1', '2', '3', '4', '5', '6', '7', '8', '9', 'macro avg'])\n",
      "{'precision': 0.0, 'recall': 0.0, 'f1-score': 0.0}\n",
      "{'precision': 0.0, 'recall': 0.0, 'f1-score': 0.0}\n",
      "{'precision': 1.0, 'recall': 1.0, 'f1-score': 0.9999999999999996}\n",
      "{'precision': 0.0, 'recall': 0.0, 'f1-score': 0.0}\n",
      "{'precision': 0.0, 'recall': 0.0, 'f1-score': 0.0}\n",
      "{'precision': 0.0, 'recall': 0.0, 'f1-score': 0.0}\n",
      "{'precision': 0.0, 'recall': 0.0, 'f1-score': 0.0}\n",
      "{'precision': 0.0, 'recall': 0.0, 'f1-score': 0.0}\n",
      "{'precision': 0.0, 'recall': 0.0, 'f1-score': 0.0}\n",
      "{'precision': 0.0, 'recall': 0.0, 'f1-score': 0.0}\n",
      "{'precision': 0.1, 'recall': 0.1, 'f1-score': 0.09999999999999995}\n",
      "{'precision': 0.1, 'recall': 0.1, 'f1-score': 0.09999999999999995}\n"
     ]
    }
   ],
   "source": [
    "import torch\n",
    "from ignite.metrics import ClassificationReport\n",
    "from ignite.engine import Engine\n",
    "\n",
    "# Example multi-class prediction with 10 classes\n",
    "y_true = torch.tensor([2, 2, 2, 2, 5, 5, 5, 5, 5, 5, 7, 7, 7, 7, 9])  # Shape: [15]\n",
    "# Note: Changed the last value from 10 to 9 because PyTorch uses 0-based indexing\n",
    "\n",
    "# Predicted logits for 10 classes (Shape: [15, 10])\n",
    "y_pred = torch.tensor([\n",
    "    [0.1, 0.05, 0.8, 0.01, 0.02, 0.01, 0.005, 0.003, 0.004, 0.007],\n",
    "    [0.15, 0.04, 0.75, 0.01, 0.02, 0.015, 0.003, 0.002, 0.005, 0.01],\n",
    "    [0.12, 0.045, 0.78, 0.005, 0.01, 0.02, 0.004, 0.002, 0.008, 0.01],\n",
    "    [0.1, 0.05, 0.8, 0.01, 0.02, 0.01, 0.005, 0.003, 0.004, 0.007],\n",
    "    [0.03, 0.02, 0.1, 0.05, 0.65, 0.08, 0.02, 0.01, 0.01, 0.02],\n",
    "    [0.02, 0.01, 0.12, 0.03, 0.7, 0.07, 0.03, 0.01, 0.01, 0.01],\n",
    "    [0.03, 0.02, 0.1, 0.05, 0.65, 0.08, 0.02, 0.01, 0.01, 0.02],\n",
    "    [0.01, 0.01, 0.15, 0.04, 0.7, 0.06, 0.03, 0.02, 0.005, 0.01],\n",
    "    [0.03, 0.02, 0.1, 0.05, 0.65, 0.08, 0.02, 0.01, 0.01, 0.02],\n",
    "    [0.02, 0.01, 0.12, 0.03, 0.7, 0.07, 0.03, 0.01, 0.01, 0.01],\n",
    "    [0.04, 0.05, 0.07, 0.03, 0.2, 0.05, 0.5, 0.04, 0.02, 0.04],\n",
    "    [0.04, 0.05, 0.07, 0.03, 0.2, 0.05, 0.5, 0.04, 0.02, 0.04],\n",
    "    [0.03, 0.04, 0.06, 0.02, 0.15, 0.05, 0.55, 0.03, 0.02, 0.03],\n",
    "    [0.04, 0.05, 0.07, 0.03, 0.2, 0.05, 0.5, 0.04, 0.02, 0.04],\n",
    "    [0.03, 0.04, 0.06, 0.02, 0.15, 0.05, 0.55, 0.03, 0.02, 0.03]\n",
    "])\n",
    "\n",
    "# Dummy engine for demonstration\n",
    "def process_function(engine, batch):\n",
    "    return batch\n",
    "\n",
    "# Create an evaluator\n",
    "default_evaluator = Engine(process_function)\n",
    "\n",
    "metric = ClassificationReport(output_dict=True)\n",
    "metric.attach(default_evaluator, \"cr\")\n",
    "\n",
    "with torch.no_grad():\n",
    "    state = default_evaluator.run([[y_pred, y_true]])\n",
    "\n",
    "print(state.metrics[\"cr\"].keys())\n",
    "for i in state.metrics[\"cr\"].keys():\n",
    "    print(state.metrics[\"cr\"][i])\n",
    "print(state.metrics[\"cr\"][\"macro avg\"])"
   ]
  },
  {
   "cell_type": "code",
   "execution_count": 21,
   "id": "0063f3e3-167f-4b91-9a0f-427f0b5d7fbe",
   "metadata": {
    "scrolled": true
   },
   "outputs": [
    {
     "name": "stdout",
     "output_type": "stream",
     "text": [
      "dict_keys(['0', '1', '2', '3', '4', '5', '6', '7', '8', '9', 'macro avg'])\n",
      "{'precision': 0.0, 'recall': 0.0, 'f1-score': 0.0}\n",
      "{'precision': 0.25, 'recall': 1.0, 'f1-score': 0.39999999999999963}\n",
      "{'precision': 0.0, 'recall': 0.0, 'f1-score': 0.0}\n",
      "{'precision': 0.16666666666666666, 'recall': 0.5, 'f1-score': 0.24999999999999964}\n",
      "{'precision': 0.0, 'recall': 0.0, 'f1-score': 0.0}\n",
      "{'precision': 0.0, 'recall': 0.0, 'f1-score': 0.0}\n",
      "{'precision': 0.25, 'recall': 0.5, 'f1-score': 0.33333333333333287}\n",
      "{'precision': 0.0, 'recall': 0.0, 'f1-score': 0.0}\n",
      "{'precision': 0.0, 'recall': 0.0, 'f1-score': 0.0}\n",
      "{'precision': 1.0, 'recall': 1.0, 'f1-score': 0.9999999999999996}\n",
      "{'precision': 0.16666666666666669, 'recall': 0.3, 'f1-score': 0.19833333333333317}\n",
      "{'precision': 0.16666666666666669, 'recall': 0.3, 'f1-score': 0.19833333333333317}\n"
     ]
    },
    {
     "name": "stderr",
     "output_type": "stream",
     "text": [
      "/home/groupe/vs_code/jupyter/env/lib/python3.11/site-packages/ignite/metrics/precision.py:50: RuntimeWarning: `y` should be of dtype long when entry type is multiclass\n",
      "  warnings.warn(\"`y` should be of dtype long when entry type is multiclass\", RuntimeWarning)\n"
     ]
    }
   ],
   "source": [
    "from ignite.metrics import ClassificationReport\n",
    "from ignite.engine import Engine, Events\n",
    "\n",
    "def inference(engine, batch):\n",
    "    return batch\n",
    "\n",
    "default_evaluator = Engine(inference)\n",
    "\n",
    "metric = ClassificationReport(output_dict=True)\n",
    "metric.attach(default_evaluator, \"cr\")\n",
    "\n",
    "with torch.no_grad():\n",
    "    state = default_evaluator.run([[p2,labels_temp.squeeze(dim=1).int()]])\n",
    "print(state.metrics[\"cr\"].keys())\n",
    "for i in state.metrics[\"cr\"].keys():\n",
    "    print(state.metrics[\"cr\"][i])\n",
    "print(state.metrics[\"cr\"][\"macro avg\"])"
   ]
  },
  {
   "cell_type": "markdown",
   "id": "7ce39638-fa7e-40b3-b77b-331775078b71",
   "metadata": {},
   "source": [
    "# SGD \n",
    "one data at one iteration"
   ]
  },
  {
   "cell_type": "code",
   "execution_count": null,
   "id": "1c3f9873-34d0-4a3f-a5ed-7e9db627a609",
   "metadata": {
    "scrolled": true
   },
   "outputs": [],
   "source": [
    "epochs = 100\n",
    "\n",
    "for i in range(epochs):\n",
    "    for j in range(15):\n",
    "        model.train()\n",
    "        y_pred = model(train_data[j].unsqueeze(dim=0))\n",
    "        loss = loss_fn(y_pred.squeeze(dim=1), train_labels)\n",
    "    \n",
    "        optimizer.zero_grad()\n",
    "    \n",
    "        loss.backward()\n",
    "    \n",
    "        optimizer.step()\n",
    "\n",
    "    model.eval()"
   ]
  },
  {
   "cell_type": "code",
   "execution_count": null,
   "id": "a7bb07c2-4a95-4b11-a0c4-04c4f00763bd",
   "metadata": {
    "scrolled": true
   },
   "outputs": [],
   "source": [
    "with torch.no_grad():\n",
    "    y_pred = model(train_data.unsqueeze(dim=1))\n",
    "train_labels, y_pred.squeeze(dim=1).squeeze(dim=1)"
   ]
  },
  {
   "cell_type": "markdown",
   "id": "41161beb-1737-4350-916d-ece36cab5799",
   "metadata": {},
   "source": [
    "# batch gradient descent"
   ]
  },
  {
   "cell_type": "code",
   "execution_count": null,
   "id": "38332d33-a0ae-4de9-96e8-25e7acfb9b61",
   "metadata": {
    "scrolled": true
   },
   "outputs": [],
   "source": [
    "epochs = 100\n",
    "batch_size = 4\n",
    "\n",
    "for i in range(epochs):\n",
    "    # for j in range(15):\n",
    "    data_temp = []\n",
    "    label_temp = []\n",
    "    for j in range(batch_size):\n",
    "        if j+(i%4)*batch_size >= 15 :\n",
    "            break\n",
    "        data_temp.append(train_data[j+(i%4)*batch_size])\n",
    "        label_temp.append(train_labels[j+(i%4)*batch_size])\n",
    "    data_temp = torch.from_numpy(np.array(data_temp)).float()\n",
    "    label_temp = torch.from_numpy(np.array(label_temp)).float()\n",
    "    model.train()\n",
    "    y_pred = model(data_temp.unsqueeze(dim=1))\n",
    "    loss = loss_fn(y_pred.squeeze(dim=1).squeeze(dim=1), label_temp)\n",
    "\n",
    "    optimizer.zero_grad()\n",
    "\n",
    "    loss.backward()\n",
    "\n",
    "    optimizer.step()\n",
    "\n",
    "    model.eval()"
   ]
  },
  {
   "cell_type": "code",
   "execution_count": null,
   "id": "9f503652-1b2f-49a1-a1f8-3438634ec32e",
   "metadata": {
    "scrolled": true
   },
   "outputs": [],
   "source": [
    "with torch.no_grad():\n",
    "    y_pred = model(train_data.unsqueeze(dim=1))\n",
    "train_labels, y_pred.squeeze(dim=1).squeeze(dim=1)"
   ]
  }
 ],
 "metadata": {
  "kernelspec": {
   "display_name": "Python 3 (ipykernel)",
   "language": "python",
   "name": "python3"
  },
  "language_info": {
   "codemirror_mode": {
    "name": "ipython",
    "version": 3
   },
   "file_extension": ".py",
   "mimetype": "text/x-python",
   "name": "python",
   "nbconvert_exporter": "python",
   "pygments_lexer": "ipython3",
   "version": "3.11.2"
  }
 },
 "nbformat": 4,
 "nbformat_minor": 5
}
